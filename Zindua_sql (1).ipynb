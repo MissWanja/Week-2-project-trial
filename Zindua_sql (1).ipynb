{
  "nbformat": 4,
  "nbformat_minor": 0,
  "metadata": {
    "colab": {
      "provenance": []
    },
    "kernelspec": {
      "name": "python3",
      "display_name": "Python 3"
    },
    "language_info": {
      "name": "python"
    }
  },
  "cells": [
    {
      "cell_type": "code",
      "execution_count": 5,
      "metadata": {
        "id": "3vC8EstUQ5Gj"
      },
      "outputs": [],
      "source": [
        "%load_ext sql"
      ]
    },
    {
      "cell_type": "code",
      "source": [
        "%%sql sqlite:///student_db"
      ],
      "metadata": {
        "id": "ivpEWgHuU0tg"
      },
      "execution_count": 14,
      "outputs": []
    },
    {
      "cell_type": "code",
      "source": [
        "%%sql PRAGMA SQL_SAFE_UPDATES =0;"
      ],
      "metadata": {
        "colab": {
          "base_uri": "https://localhost:8080/"
        },
        "id": "hSY6FQnPRMEk",
        "outputId": "732a168d-e210-4728-b096-400be9749125"
      },
      "execution_count": 16,
      "outputs": [
        {
          "output_type": "stream",
          "name": "stdout",
          "text": [
            "   sqlite:///Zindua.db\n",
            "   sqlite:///Zindua.sql\n",
            " * sqlite:///student_db\n",
            "Done.\n"
          ]
        },
        {
          "output_type": "execute_result",
          "data": {
            "text/plain": [
              "[]"
            ]
          },
          "metadata": {},
          "execution_count": 16
        }
      ]
    },
    {
      "cell_type": "code",
      "source": [
        "%%sql CREATE TABLE personal_details (\n",
        "national_ID INTEGER(15) , stud_ID VARCHAR(15),stud_name VARCHAR(100),\n",
        "phone_number VARCHAR(15),age INTEGER, gender VARCHAR(10),\n",
        "PRIMARY KEY(national_ID) );"
      ],
      "metadata": {
        "colab": {
          "base_uri": "https://localhost:8080/"
        },
        "id": "9TBu3fOCR5UY",
        "outputId": "30cdcee7-5838-4191-cff5-7ef30822895d"
      },
      "execution_count": 17,
      "outputs": [
        {
          "output_type": "stream",
          "name": "stdout",
          "text": [
            "   sqlite:///Zindua.db\n",
            "   sqlite:///Zindua.sql\n",
            " * sqlite:///student_db\n",
            "Done.\n"
          ]
        },
        {
          "output_type": "execute_result",
          "data": {
            "text/plain": [
              "[]"
            ]
          },
          "metadata": {},
          "execution_count": 17
        }
      ]
    },
    {
      "cell_type": "code",
      "source": [
        "%%sql SELECT * FROM personal_details;"
      ],
      "metadata": {
        "colab": {
          "base_uri": "https://localhost:8080/",
          "height": 430
        },
        "id": "zqrd6brPQ19a",
        "outputId": "78b3b908-8873-428e-b92b-43ece03e20e2"
      },
      "execution_count": 20,
      "outputs": [
        {
          "output_type": "stream",
          "name": "stdout",
          "text": [
            "   sqlite:///Zindua.db\n",
            "   sqlite:///Zindua.sql\n",
            " * sqlite:///student_db\n",
            "Done.\n"
          ]
        },
        {
          "output_type": "execute_result",
          "data": {
            "text/plain": [
              "[(344534, 'stud101', 'Hermione Granger', '0712345678', 20, 'Male'),\n",
              " (379683, 'stud102', 'Draco Malfo', '0723456781', 21, 'Female'),\n",
              " (347403, 'stud103', 'Jayden Wamashati', '0734567812', 22, 'Male'),\n",
              " (377302, 'stud104', 'Ron Weasley', '0745678123', 19, 'Female'),\n",
              " (336741, 'stud105', 'Dolores Umbridge', '0756781234', 21, 'Male'),\n",
              " (307243, 'stud106', 'Hedwig Tonks', '0767812345', 21, 'Female'),\n",
              " (310932, 'stud107', 'Chao Chang', '0778123456', 22, 'Male'),\n",
              " (343920, 'stud108', 'Curfew Yaeitpm', '0781234567', 20, 'Female'),\n",
              " (345261, 'stud109', 'Chaptr Mukenya', '0722345678', 20, 'Male'),\n",
              " (339152, 'stud110', 'Natalie Mpema', '0733456781', 21, 'Female'),\n",
              " (339746, 'stud111', 'Crew Nundi', '0744567812', 20, 'Male'),\n",
              " (336373, 'stud112', 'Bandi Kagunda', '0755678123', 22, 'Female'),\n",
              " (325252, 'stud113', 'Testimony Omolo', '0766456781', 21, 'Male'),\n",
              " (321746, 'stud114', 'Career Mpya', '0741367812', 20, 'Male'),\n",
              " (390234, 'stud115', 'Deamon Anduro', '0744421123', 22, 'Female')]"
            ],
            "text/html": [
              "<table>\n",
              "    <thead>\n",
              "        <tr>\n",
              "            <th>national_ID</th>\n",
              "            <th>stud_ID</th>\n",
              "            <th>stud_name</th>\n",
              "            <th>phone_number</th>\n",
              "            <th>age</th>\n",
              "            <th>gender</th>\n",
              "        </tr>\n",
              "    </thead>\n",
              "    <tbody>\n",
              "        <tr>\n",
              "            <td>344534</td>\n",
              "            <td>stud101</td>\n",
              "            <td>Hermione Granger</td>\n",
              "            <td>0712345678</td>\n",
              "            <td>20</td>\n",
              "            <td>Male</td>\n",
              "        </tr>\n",
              "        <tr>\n",
              "            <td>379683</td>\n",
              "            <td>stud102</td>\n",
              "            <td>Draco Malfo</td>\n",
              "            <td>0723456781</td>\n",
              "            <td>21</td>\n",
              "            <td>Female</td>\n",
              "        </tr>\n",
              "        <tr>\n",
              "            <td>347403</td>\n",
              "            <td>stud103</td>\n",
              "            <td>Jayden Wamashati</td>\n",
              "            <td>0734567812</td>\n",
              "            <td>22</td>\n",
              "            <td>Male</td>\n",
              "        </tr>\n",
              "        <tr>\n",
              "            <td>377302</td>\n",
              "            <td>stud104</td>\n",
              "            <td>Ron Weasley</td>\n",
              "            <td>0745678123</td>\n",
              "            <td>19</td>\n",
              "            <td>Female</td>\n",
              "        </tr>\n",
              "        <tr>\n",
              "            <td>336741</td>\n",
              "            <td>stud105</td>\n",
              "            <td>Dolores Umbridge</td>\n",
              "            <td>0756781234</td>\n",
              "            <td>21</td>\n",
              "            <td>Male</td>\n",
              "        </tr>\n",
              "        <tr>\n",
              "            <td>307243</td>\n",
              "            <td>stud106</td>\n",
              "            <td>Hedwig Tonks</td>\n",
              "            <td>0767812345</td>\n",
              "            <td>21</td>\n",
              "            <td>Female</td>\n",
              "        </tr>\n",
              "        <tr>\n",
              "            <td>310932</td>\n",
              "            <td>stud107</td>\n",
              "            <td>Chao Chang</td>\n",
              "            <td>0778123456</td>\n",
              "            <td>22</td>\n",
              "            <td>Male</td>\n",
              "        </tr>\n",
              "        <tr>\n",
              "            <td>343920</td>\n",
              "            <td>stud108</td>\n",
              "            <td>Curfew Yaeitpm</td>\n",
              "            <td>0781234567</td>\n",
              "            <td>20</td>\n",
              "            <td>Female</td>\n",
              "        </tr>\n",
              "        <tr>\n",
              "            <td>345261</td>\n",
              "            <td>stud109</td>\n",
              "            <td>Chaptr Mukenya</td>\n",
              "            <td>0722345678</td>\n",
              "            <td>20</td>\n",
              "            <td>Male</td>\n",
              "        </tr>\n",
              "        <tr>\n",
              "            <td>339152</td>\n",
              "            <td>stud110</td>\n",
              "            <td>Natalie Mpema</td>\n",
              "            <td>0733456781</td>\n",
              "            <td>21</td>\n",
              "            <td>Female</td>\n",
              "        </tr>\n",
              "        <tr>\n",
              "            <td>339746</td>\n",
              "            <td>stud111</td>\n",
              "            <td>Crew Nundi</td>\n",
              "            <td>0744567812</td>\n",
              "            <td>20</td>\n",
              "            <td>Male</td>\n",
              "        </tr>\n",
              "        <tr>\n",
              "            <td>336373</td>\n",
              "            <td>stud112</td>\n",
              "            <td>Bandi Kagunda</td>\n",
              "            <td>0755678123</td>\n",
              "            <td>22</td>\n",
              "            <td>Female</td>\n",
              "        </tr>\n",
              "        <tr>\n",
              "            <td>325252</td>\n",
              "            <td>stud113</td>\n",
              "            <td>Testimony Omolo</td>\n",
              "            <td>0766456781</td>\n",
              "            <td>21</td>\n",
              "            <td>Male</td>\n",
              "        </tr>\n",
              "        <tr>\n",
              "            <td>321746</td>\n",
              "            <td>stud114</td>\n",
              "            <td>Career Mpya</td>\n",
              "            <td>0741367812</td>\n",
              "            <td>20</td>\n",
              "            <td>Male</td>\n",
              "        </tr>\n",
              "        <tr>\n",
              "            <td>390234</td>\n",
              "            <td>stud115</td>\n",
              "            <td>Deamon Anduro</td>\n",
              "            <td>0744421123</td>\n",
              "            <td>22</td>\n",
              "            <td>Female</td>\n",
              "        </tr>\n",
              "    </tbody>\n",
              "</table>"
            ]
          },
          "metadata": {},
          "execution_count": 20
        }
      ]
    },
    {
      "cell_type": "code",
      "source": [
        "%%sql INSERT INTO personal_details (national_ID,stud_ID,stud_name,phone_number,age,gender)\n",
        "VALUES(\"344534\",\"stud101\",\"Hermione Granger\" ,\"0712345678\",20,\"Male\"),\n",
        "(\"379683\",\"stud102\",\"Draco Malfo\" ,\"0723456781\",21,\"Female\"),\n",
        "(\"347403\",\"stud103\",\"Jayden Wamashati\" ,\"0734567812\",22,\"Male\"),\n",
        "(\"377302\",\"stud104\",\"Ron Weasley\" ,\"0745678123\",19,\"Female\"),\n",
        "(\"336741\",\"stud105\",\"Dolores Umbridge\" ,\"0756781234\",21,\"Male\"),\n",
        "(\"307243\",\"stud106\",\"Hedwig Tonks\" ,\"0767812345\",21,\"Female\"),\n",
        "(\"310932\",\"stud107\",\"Chao Chang\" ,\"0778123456\",22,\"Male\"),\n",
        "(\"343920\",\"stud108\",\"Curfew Yaeitpm\" ,\"0781234567\",20,\"Female\"),\n",
        "(\"345261\",\"stud109\",\"Chaptr Mukenya\" ,\"0722345678\",20,\"Male\"),\n",
        "(\"339152\",\"stud110\",\"Natalie Mpema\" ,\"0733456781\",21,\"Female\"),\n",
        "(\"339746\",\"stud111\",\"Crew Nundi\" ,\"0744567812\",20,\"Male\"),\n",
        "(\"336373\",\"stud112\",\"Bandi Kagunda\" ,\"0755678123\",22,\"Female\"),\n",
        "(\"325252\",\"stud113\",\"Testimony Omolo\" ,\"0766456781\",21,\"Male\"),\n",
        "(\"321746\",\"stud114\",\"Career Mpya\" ,\"0741367812\",20,\"Male\"),\n",
        "(\"390234\",\"stud115\",\"Deamon Anduro\" ,\"0744421123\",22,\"Female\");"
      ],
      "metadata": {
        "colab": {
          "base_uri": "https://localhost:8080/"
        },
        "id": "lZ_EZ0j_SDqz",
        "outputId": "32072684-53d3-480a-f2a2-b51da0d0505d"
      },
      "execution_count": 19,
      "outputs": [
        {
          "output_type": "stream",
          "name": "stdout",
          "text": [
            "   sqlite:///Zindua.db\n",
            "   sqlite:///Zindua.sql\n",
            " * sqlite:///student_db\n",
            "15 rows affected.\n"
          ]
        },
        {
          "output_type": "execute_result",
          "data": {
            "text/plain": [
              "[]"
            ]
          },
          "metadata": {},
          "execution_count": 19
        }
      ]
    },
    {
      "cell_type": "code",
      "source": [
        "%%sql CREATE TABLE school_details(stud_ID VARCHAR(15), current_home_county VARCHAR(20),\n",
        "secondary_school_county VARCHAR(20), residence VARCHAR(15), stud_email VARCHAR(50),\n",
        "PRIMARY KEY (stud_ID)  );"
      ],
      "metadata": {
        "colab": {
          "base_uri": "https://localhost:8080/"
        },
        "id": "J_QNk6e0SOvv",
        "outputId": "387a2f8c-3378-47d6-e311-dd67e9f25155"
      },
      "execution_count": 21,
      "outputs": [
        {
          "output_type": "stream",
          "name": "stdout",
          "text": [
            "   sqlite:///Zindua.db\n",
            "   sqlite:///Zindua.sql\n",
            " * sqlite:///student_db\n",
            "Done.\n"
          ]
        },
        {
          "output_type": "execute_result",
          "data": {
            "text/plain": [
              "[]"
            ]
          },
          "metadata": {},
          "execution_count": 21
        }
      ]
    },
    {
      "cell_type": "code",
      "source": [
        "%%sql INSERT INTO school_details(stud_ID)\n",
        "SELECT stud_ID\n",
        "FROM personal_details;"
      ],
      "metadata": {
        "colab": {
          "base_uri": "https://localhost:8080/"
        },
        "id": "uar9B-qWSTDL",
        "outputId": "6bb2ded1-dee5-49de-a5b7-bcd9109aa577"
      },
      "execution_count": 22,
      "outputs": [
        {
          "output_type": "stream",
          "name": "stdout",
          "text": [
            "   sqlite:///Zindua.db\n",
            "   sqlite:///Zindua.sql\n",
            " * sqlite:///student_db\n",
            "15 rows affected.\n"
          ]
        },
        {
          "output_type": "execute_result",
          "data": {
            "text/plain": [
              "[]"
            ]
          },
          "metadata": {},
          "execution_count": 22
        }
      ]
    },
    {
      "cell_type": "code",
      "source": [
        "%%sql UPDATE school_details\n",
        "SET stud_email = (SELECT (REPLACE (stud_name,' ','') ,'@zinduaschool.ac')\n",
        "\t\t\t\t\tFROM personal_details\n",
        "\t\t\t\t\tWHERE school_details.stud_ID = personal_details.stud_ID) ;"
      ],
      "metadata": {
        "colab": {
          "base_uri": "https://localhost:8080/"
        },
        "id": "lv21hB2GSZn_",
        "outputId": "99d58d32-fa37-441b-eb5e-96403590e46a"
      },
      "execution_count": 26,
      "outputs": [
        {
          "output_type": "stream",
          "name": "stdout",
          "text": [
            "   sqlite:///Zindua.db\n",
            "   sqlite:///Zindua.sql\n",
            " * sqlite:///student_db\n",
            "(sqlite3.OperationalError) row value misused\n",
            "[SQL: UPDATE school_details\n",
            "SET stud_email = (SELECT (REPLACE (stud_name,' ','') ,'@zinduaschool.ac')\n",
            "\t\t\t\t\tFROM personal_details\n",
            "\t\t\t\t\tWHERE school_details.stud_ID = personal_details.stud_ID) ;]\n",
            "(Background on this error at: https://sqlalche.me/e/20/e3q8)\n"
          ]
        }
      ]
    },
    {
      "cell_type": "code",
      "source": [
        "%%sql CREATE VIEW new_stud_details AS\n",
        "SELECT\n",
        "student_name,\n",
        "school_id,\n",
        "email,\n",
        "phone_number\n",
        "FROM students s\n",
        "JOIN schools sch ON s.school_id = sch.school_id;"
      ],
      "metadata": {
        "colab": {
          "base_uri": "https://localhost:8080/"
        },
        "id": "VgwXxRnyTZXc",
        "outputId": "d51801f0-89b0-4934-98b1-a8028a4c25d6"
      },
      "execution_count": 27,
      "outputs": [
        {
          "output_type": "stream",
          "name": "stdout",
          "text": [
            "   sqlite:///Zindua.db\n",
            "   sqlite:///Zindua.sql\n",
            " * sqlite:///student_db\n",
            "Done.\n"
          ]
        },
        {
          "output_type": "execute_result",
          "data": {
            "text/plain": [
              "[]"
            ]
          },
          "metadata": {},
          "execution_count": 27
        }
      ]
    }
  ]
}